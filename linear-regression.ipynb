{
 "cells": [
  {
   "cell_type": "code",
   "execution_count": 4,
   "metadata": {},
   "outputs": [
    {
     "name": "stdout",
     "output_type": "stream",
     "text": [
      "    S/N                      Name  Age  Weight  HEIGHT\n",
      "0     1            Adokorac Nancy   20      70  177.80\n",
      "1     2   Amutuhaire Faith Ahabwe   27      47  157.48\n",
      "2     3     KWAGALA JOANNA VICTOR   21      54  185.42\n",
      "3     4              mahoro cathy   23      30     NaN\n",
      "4     5  Mbabazi Hawa Bint Edrisa   19      59  175.26\n",
      "5     6       Nakanjako josephine   24      65  175.26\n",
      "6     7            Nanteza Dorcus   21      69  157.48\n",
      "7     8             Mbabazi Angel   19      57  167.64\n",
      "8     9            Namara Racheal   19      55  154.94\n",
      "9    10       Lwamulungi Sheillah   22      78  162.56\n",
      "10   11           Nakawuka Sandra   25      60  175.26\n",
      "11   12   Achola Gloria Fortunate   27      80  172.72\n",
      "12   13             Nagawa Esther   21      58  187.96\n",
      "13   14           wanjiku hananny   19      50  165.10\n",
      "14   15            babirye Sandra   21      50  175.26\n",
      "15   16          nakagga shanitah   21      50  175.26\n",
      "16   17    Wembabazi Vivian Ritah   20      49  160.02\n",
      "17   18   Nanziri Ritah Namayanja   23      70  162.56\n",
      "18   19            Nasejje Mariam   20      62  101.60\n",
      "19   20  Namukose Jolline Edriana   20      55  162.56\n",
      "20   21      Agatha Faith Anyango   27      55   93.98\n",
      "21   22              Kirabo Sarah   23      60  165.10\n",
      "22   23          Nansalire Anitah   21      45   63.50\n",
      "23   24             Nalugo gladys   19      70  101.60\n",
      "24   25            Namakula Allen   20      55  170.18\n",
      "25   26           Tukahirwa emily   22      67  175.26\n",
      "26   27            Shamirah Ahmed   21      67  137.16\n",
      "27   28          Ameso lmmaculate   23      64  165.10\n",
      "28   29                Ayoo Teddy   20      50  157.48\n",
      "29   30                Biira Mary   30      65  104.14\n",
      "30   31        Aloyo Brenda Ojera   23      52  170.18\n",
      "31   32        Ayebale Immaculate   24      50  162.56\n"
     ]
    }
   ],
   "source": [
    "\n",
    "\n",
    "df=pd.read_excel(r\"c:\\Users\\Student\\Desktop\\DATA SCIENCE\\data\\Dataset.xlsx\")\n",
    "print(df)"
   ]
  },
  {
   "cell_type": "code",
   "execution_count": 3,
   "metadata": {},
   "outputs": [
    {
     "name": "stdout",
     "output_type": "stream",
     "text": [
      "Requirement already satisfied: pandas in c:\\users\\humar\\appdata\\local\\programs\\python\\python312\\lib\\site-packages (2.1.3)\n",
      "Requirement already satisfied: numpy<2,>=1.26.0 in c:\\users\\humar\\appdata\\local\\programs\\python\\python312\\lib\\site-packages (from pandas) (1.26.2)\n",
      "Requirement already satisfied: python-dateutil>=2.8.2 in c:\\users\\humar\\appdata\\roaming\\python\\python312\\site-packages (from pandas) (2.8.2)\n",
      "Requirement already satisfied: pytz>=2020.1 in c:\\users\\humar\\appdata\\local\\programs\\python\\python312\\lib\\site-packages (from pandas) (2023.3.post1)\n",
      "Requirement already satisfied: tzdata>=2022.1 in c:\\users\\humar\\appdata\\local\\programs\\python\\python312\\lib\\site-packages (from pandas) (2023.3)\n",
      "Requirement already satisfied: six>=1.5 in c:\\users\\humar\\appdata\\roaming\\python\\python312\\site-packages (from python-dateutil>=2.8.2->pandas) (1.16.0)\n",
      "Note: you may need to restart the kernel to use updated packages.\n"
     ]
    }
   ],
   "source": [
    "pip install pandas"
   ]
  },
  {
   "cell_type": "code",
   "execution_count": 4,
   "metadata": {},
   "outputs": [],
   "source": [
    "import pandas as pd"
   ]
  },
  {
   "cell_type": "code",
   "execution_count": 5,
   "metadata": {},
   "outputs": [
    {
     "name": "stdout",
     "output_type": "stream",
     "text": [
      "Requirement already satisfied: Statsmodels in c:\\users\\humar\\appdata\\local\\programs\\python\\python312\\lib\\site-packages (0.14.0)\n",
      "Requirement already satisfied: numpy>=1.18 in c:\\users\\humar\\appdata\\local\\programs\\python\\python312\\lib\\site-packages (from Statsmodels) (1.26.2)\n",
      "Requirement already satisfied: scipy!=1.9.2,>=1.4 in c:\\users\\humar\\appdata\\local\\programs\\python\\python312\\lib\\site-packages (from Statsmodels) (1.11.3)\n",
      "Requirement already satisfied: pandas>=1.0 in c:\\users\\humar\\appdata\\local\\programs\\python\\python312\\lib\\site-packages (from Statsmodels) (2.1.3)\n",
      "Requirement already satisfied: patsy>=0.5.2 in c:\\users\\humar\\appdata\\local\\programs\\python\\python312\\lib\\site-packages (from Statsmodels) (0.5.3)\n",
      "Requirement already satisfied: packaging>=21.3 in c:\\users\\humar\\appdata\\roaming\\python\\python312\\site-packages (from Statsmodels) (23.2)\n",
      "Requirement already satisfied: python-dateutil>=2.8.2 in c:\\users\\humar\\appdata\\roaming\\python\\python312\\site-packages (from pandas>=1.0->Statsmodels) (2.8.2)\n",
      "Requirement already satisfied: pytz>=2020.1 in c:\\users\\humar\\appdata\\local\\programs\\python\\python312\\lib\\site-packages (from pandas>=1.0->Statsmodels) (2023.3.post1)\n",
      "Requirement already satisfied: tzdata>=2022.1 in c:\\users\\humar\\appdata\\local\\programs\\python\\python312\\lib\\site-packages (from pandas>=1.0->Statsmodels) (2023.3)\n",
      "Requirement already satisfied: six in c:\\users\\humar\\appdata\\roaming\\python\\python312\\site-packages (from patsy>=0.5.2->Statsmodels) (1.16.0)\n",
      "Note: you may need to restart the kernel to use updated packages.\n"
     ]
    }
   ],
   "source": [
    "pip install Statsmodels"
   ]
  },
  {
   "cell_type": "code",
   "execution_count": 7,
   "metadata": {},
   "outputs": [],
   "source": [
    "from scipy.stats import linregress"
   ]
  },
  {
   "cell_type": "code",
   "execution_count": 6,
   "metadata": {},
   "outputs": [],
   "source": [
    "import statsmodels.formula.api as smf"
   ]
  },
  {
   "cell_type": "code",
   "execution_count": 8,
   "metadata": {},
   "outputs": [],
   "source": [
    "import pandas as pd"
   ]
  },
  {
   "cell_type": "markdown",
   "metadata": {},
   "source": [
    " The more Rvalue is close to 100% your model is performing well and vice verser\n",
    " E.g Height is able to explain its relationship with Weight\n",
    " NB Rvalue shouldnt be negative\n",
    " If Pvalue is < 5% you make use of the significant level\n",
    " std error(when its 0.00)it perfects predicts that  if you have a whole world wiil never fail.\n",
    " std error(when its 0.05) if you have the whole world ,the model will only fail 0.05"
   ]
  },
  {
   "cell_type": "code",
   "execution_count": 22,
   "metadata": {},
   "outputs": [
    {
     "name": "stdout",
     "output_type": "stream",
     "text": [
      "LinregressResult(slope=nan, intercept=nan, rvalue=nan, pvalue=nan, stderr=nan, intercept_stderr=nan)\n"
     ]
    }
   ],
   "source": [
    "result=linregress(df[\"Weight\"],df[\"HEIGHT\"])\n",
    "print(result)"
   ]
  },
  {
   "cell_type": "code",
   "execution_count": 26,
   "metadata": {},
   "outputs": [],
   "source": [
    "df2=df.dropna()\n"
   ]
  },
  {
   "cell_type": "code",
   "execution_count": 27,
   "metadata": {},
   "outputs": [
    {
     "data": {
      "text/html": [
       "<div>\n",
       "<style scoped>\n",
       "    .dataframe tbody tr th:only-of-type {\n",
       "        vertical-align: middle;\n",
       "    }\n",
       "\n",
       "    .dataframe tbody tr th {\n",
       "        vertical-align: top;\n",
       "    }\n",
       "\n",
       "    .dataframe thead th {\n",
       "        text-align: right;\n",
       "    }\n",
       "</style>\n",
       "<table border=\"1\" class=\"dataframe\">\n",
       "  <thead>\n",
       "    <tr style=\"text-align: right;\">\n",
       "      <th></th>\n",
       "      <th>S/N</th>\n",
       "      <th>Name</th>\n",
       "      <th>Age</th>\n",
       "      <th>Weight</th>\n",
       "      <th>HEIGHT</th>\n",
       "    </tr>\n",
       "  </thead>\n",
       "  <tbody>\n",
       "    <tr>\n",
       "      <th>0</th>\n",
       "      <td>1</td>\n",
       "      <td>Adokorac Nancy</td>\n",
       "      <td>20</td>\n",
       "      <td>70</td>\n",
       "      <td>177.80</td>\n",
       "    </tr>\n",
       "    <tr>\n",
       "      <th>1</th>\n",
       "      <td>2</td>\n",
       "      <td>Amutuhaire Faith Ahabwe</td>\n",
       "      <td>27</td>\n",
       "      <td>47</td>\n",
       "      <td>157.48</td>\n",
       "    </tr>\n",
       "    <tr>\n",
       "      <th>2</th>\n",
       "      <td>3</td>\n",
       "      <td>KWAGALA JOANNA VICTOR</td>\n",
       "      <td>21</td>\n",
       "      <td>54</td>\n",
       "      <td>185.42</td>\n",
       "    </tr>\n",
       "    <tr>\n",
       "      <th>4</th>\n",
       "      <td>5</td>\n",
       "      <td>Mbabazi Hawa Bint Edrisa</td>\n",
       "      <td>19</td>\n",
       "      <td>59</td>\n",
       "      <td>175.26</td>\n",
       "    </tr>\n",
       "    <tr>\n",
       "      <th>5</th>\n",
       "      <td>6</td>\n",
       "      <td>Nakanjako josephine</td>\n",
       "      <td>24</td>\n",
       "      <td>65</td>\n",
       "      <td>175.26</td>\n",
       "    </tr>\n",
       "    <tr>\n",
       "      <th>6</th>\n",
       "      <td>7</td>\n",
       "      <td>Nanteza Dorcus</td>\n",
       "      <td>21</td>\n",
       "      <td>69</td>\n",
       "      <td>157.48</td>\n",
       "    </tr>\n",
       "    <tr>\n",
       "      <th>7</th>\n",
       "      <td>8</td>\n",
       "      <td>Mbabazi Angel</td>\n",
       "      <td>19</td>\n",
       "      <td>57</td>\n",
       "      <td>167.64</td>\n",
       "    </tr>\n",
       "    <tr>\n",
       "      <th>8</th>\n",
       "      <td>9</td>\n",
       "      <td>Namara Racheal</td>\n",
       "      <td>19</td>\n",
       "      <td>55</td>\n",
       "      <td>154.94</td>\n",
       "    </tr>\n",
       "    <tr>\n",
       "      <th>9</th>\n",
       "      <td>10</td>\n",
       "      <td>Lwamulungi Sheillah</td>\n",
       "      <td>22</td>\n",
       "      <td>78</td>\n",
       "      <td>162.56</td>\n",
       "    </tr>\n",
       "    <tr>\n",
       "      <th>10</th>\n",
       "      <td>11</td>\n",
       "      <td>Nakawuka Sandra</td>\n",
       "      <td>25</td>\n",
       "      <td>60</td>\n",
       "      <td>175.26</td>\n",
       "    </tr>\n",
       "    <tr>\n",
       "      <th>11</th>\n",
       "      <td>12</td>\n",
       "      <td>Achola Gloria Fortunate</td>\n",
       "      <td>27</td>\n",
       "      <td>80</td>\n",
       "      <td>172.72</td>\n",
       "    </tr>\n",
       "    <tr>\n",
       "      <th>12</th>\n",
       "      <td>13</td>\n",
       "      <td>Nagawa Esther</td>\n",
       "      <td>21</td>\n",
       "      <td>58</td>\n",
       "      <td>187.96</td>\n",
       "    </tr>\n",
       "    <tr>\n",
       "      <th>13</th>\n",
       "      <td>14</td>\n",
       "      <td>wanjiku hananny</td>\n",
       "      <td>19</td>\n",
       "      <td>50</td>\n",
       "      <td>165.10</td>\n",
       "    </tr>\n",
       "    <tr>\n",
       "      <th>14</th>\n",
       "      <td>15</td>\n",
       "      <td>babirye Sandra</td>\n",
       "      <td>21</td>\n",
       "      <td>50</td>\n",
       "      <td>175.26</td>\n",
       "    </tr>\n",
       "    <tr>\n",
       "      <th>15</th>\n",
       "      <td>16</td>\n",
       "      <td>nakagga shanitah</td>\n",
       "      <td>21</td>\n",
       "      <td>50</td>\n",
       "      <td>175.26</td>\n",
       "    </tr>\n",
       "    <tr>\n",
       "      <th>16</th>\n",
       "      <td>17</td>\n",
       "      <td>Wembabazi Vivian Ritah</td>\n",
       "      <td>20</td>\n",
       "      <td>49</td>\n",
       "      <td>160.02</td>\n",
       "    </tr>\n",
       "    <tr>\n",
       "      <th>17</th>\n",
       "      <td>18</td>\n",
       "      <td>Nanziri Ritah Namayanja</td>\n",
       "      <td>23</td>\n",
       "      <td>70</td>\n",
       "      <td>162.56</td>\n",
       "    </tr>\n",
       "    <tr>\n",
       "      <th>18</th>\n",
       "      <td>19</td>\n",
       "      <td>Nasejje Mariam</td>\n",
       "      <td>20</td>\n",
       "      <td>62</td>\n",
       "      <td>101.60</td>\n",
       "    </tr>\n",
       "    <tr>\n",
       "      <th>19</th>\n",
       "      <td>20</td>\n",
       "      <td>Namukose Jolline Edriana</td>\n",
       "      <td>20</td>\n",
       "      <td>55</td>\n",
       "      <td>162.56</td>\n",
       "    </tr>\n",
       "    <tr>\n",
       "      <th>20</th>\n",
       "      <td>21</td>\n",
       "      <td>Agatha Faith Anyango</td>\n",
       "      <td>27</td>\n",
       "      <td>55</td>\n",
       "      <td>93.98</td>\n",
       "    </tr>\n",
       "    <tr>\n",
       "      <th>21</th>\n",
       "      <td>22</td>\n",
       "      <td>Kirabo Sarah</td>\n",
       "      <td>23</td>\n",
       "      <td>60</td>\n",
       "      <td>165.10</td>\n",
       "    </tr>\n",
       "    <tr>\n",
       "      <th>22</th>\n",
       "      <td>23</td>\n",
       "      <td>Nansalire Anitah</td>\n",
       "      <td>21</td>\n",
       "      <td>45</td>\n",
       "      <td>63.50</td>\n",
       "    </tr>\n",
       "    <tr>\n",
       "      <th>23</th>\n",
       "      <td>24</td>\n",
       "      <td>Nalugo gladys</td>\n",
       "      <td>19</td>\n",
       "      <td>70</td>\n",
       "      <td>101.60</td>\n",
       "    </tr>\n",
       "    <tr>\n",
       "      <th>24</th>\n",
       "      <td>25</td>\n",
       "      <td>Namakula Allen</td>\n",
       "      <td>20</td>\n",
       "      <td>55</td>\n",
       "      <td>170.18</td>\n",
       "    </tr>\n",
       "    <tr>\n",
       "      <th>25</th>\n",
       "      <td>26</td>\n",
       "      <td>Tukahirwa emily</td>\n",
       "      <td>22</td>\n",
       "      <td>67</td>\n",
       "      <td>175.26</td>\n",
       "    </tr>\n",
       "    <tr>\n",
       "      <th>26</th>\n",
       "      <td>27</td>\n",
       "      <td>Shamirah Ahmed</td>\n",
       "      <td>21</td>\n",
       "      <td>67</td>\n",
       "      <td>137.16</td>\n",
       "    </tr>\n",
       "    <tr>\n",
       "      <th>27</th>\n",
       "      <td>28</td>\n",
       "      <td>Ameso lmmaculate</td>\n",
       "      <td>23</td>\n",
       "      <td>64</td>\n",
       "      <td>165.10</td>\n",
       "    </tr>\n",
       "    <tr>\n",
       "      <th>28</th>\n",
       "      <td>29</td>\n",
       "      <td>Ayoo Teddy</td>\n",
       "      <td>20</td>\n",
       "      <td>50</td>\n",
       "      <td>157.48</td>\n",
       "    </tr>\n",
       "    <tr>\n",
       "      <th>29</th>\n",
       "      <td>30</td>\n",
       "      <td>Biira Mary</td>\n",
       "      <td>30</td>\n",
       "      <td>65</td>\n",
       "      <td>104.14</td>\n",
       "    </tr>\n",
       "    <tr>\n",
       "      <th>30</th>\n",
       "      <td>31</td>\n",
       "      <td>Aloyo Brenda Ojera</td>\n",
       "      <td>23</td>\n",
       "      <td>52</td>\n",
       "      <td>170.18</td>\n",
       "    </tr>\n",
       "    <tr>\n",
       "      <th>31</th>\n",
       "      <td>32</td>\n",
       "      <td>Ayebale Immaculate</td>\n",
       "      <td>24</td>\n",
       "      <td>50</td>\n",
       "      <td>162.56</td>\n",
       "    </tr>\n",
       "  </tbody>\n",
       "</table>\n",
       "</div>"
      ],
      "text/plain": [
       "    S/N                      Name  Age  Weight  HEIGHT\n",
       "0     1            Adokorac Nancy   20      70  177.80\n",
       "1     2   Amutuhaire Faith Ahabwe   27      47  157.48\n",
       "2     3     KWAGALA JOANNA VICTOR   21      54  185.42\n",
       "4     5  Mbabazi Hawa Bint Edrisa   19      59  175.26\n",
       "5     6       Nakanjako josephine   24      65  175.26\n",
       "6     7            Nanteza Dorcus   21      69  157.48\n",
       "7     8             Mbabazi Angel   19      57  167.64\n",
       "8     9            Namara Racheal   19      55  154.94\n",
       "9    10       Lwamulungi Sheillah   22      78  162.56\n",
       "10   11           Nakawuka Sandra   25      60  175.26\n",
       "11   12   Achola Gloria Fortunate   27      80  172.72\n",
       "12   13             Nagawa Esther   21      58  187.96\n",
       "13   14           wanjiku hananny   19      50  165.10\n",
       "14   15            babirye Sandra   21      50  175.26\n",
       "15   16          nakagga shanitah   21      50  175.26\n",
       "16   17    Wembabazi Vivian Ritah   20      49  160.02\n",
       "17   18   Nanziri Ritah Namayanja   23      70  162.56\n",
       "18   19            Nasejje Mariam   20      62  101.60\n",
       "19   20  Namukose Jolline Edriana   20      55  162.56\n",
       "20   21      Agatha Faith Anyango   27      55   93.98\n",
       "21   22              Kirabo Sarah   23      60  165.10\n",
       "22   23          Nansalire Anitah   21      45   63.50\n",
       "23   24             Nalugo gladys   19      70  101.60\n",
       "24   25            Namakula Allen   20      55  170.18\n",
       "25   26           Tukahirwa emily   22      67  175.26\n",
       "26   27            Shamirah Ahmed   21      67  137.16\n",
       "27   28          Ameso lmmaculate   23      64  165.10\n",
       "28   29                Ayoo Teddy   20      50  157.48\n",
       "29   30                Biira Mary   30      65  104.14\n",
       "30   31        Aloyo Brenda Ojera   23      52  170.18\n",
       "31   32        Ayebale Immaculate   24      50  162.56"
      ]
     },
     "execution_count": 27,
     "metadata": {},
     "output_type": "execute_result"
    }
   ],
   "source": [
    "df2"
   ]
  },
  {
   "cell_type": "code",
   "execution_count": 34,
   "metadata": {},
   "outputs": [
    {
     "name": "stdout",
     "output_type": "stream",
     "text": [
      "LinregressResult(slope=0.21377020680349798, intercept=142.7571083837152, rvalue=0.06462556268441196, pvalue=0.7297976235617509, stderr=0.6129640926648072, intercept_stderr=36.755099535477875)\n"
     ]
    }
   ],
   "source": [
    "result=linregress(df2[\"Weight\"],df2[\"HEIGHT\"])\n",
    "print(result)"
   ]
  },
  {
   "cell_type": "markdown",
   "metadata": {},
   "source": [
    "When the slope is positive,this indicates that as your height increases,there is also an increase in your weight.(Slope)\n",
    "For every unit of your height that increases the weight ,the weight increases by units of 142.75(Intercept)\n",
    "According to my R value, my model is 18% correct.My prediction that Height and weight has a relationship is 18% correct.(Rvalue).\n",
    "When the P<5% my model might be wrong and when its greater it means my model is likely to be correct.(Pvalue).\n",
    "If stderror=0.00 this implies that my model is perfect and if its 0.567 this implies that my model will only fail 0.567(stderror)\n"
   ]
  },
  {
   "cell_type": "markdown",
   "metadata": {},
   "source": []
  },
  {
   "cell_type": "code",
   "execution_count": 4,
   "metadata": {},
   "outputs": [],
   "source": [
    "import pandas as pd"
   ]
  },
  {
   "cell_type": "code",
   "execution_count": 8,
   "metadata": {},
   "outputs": [
    {
     "name": "stdout",
     "output_type": "stream",
     "text": [
      "    S/N                      Name  Age  Weight  HEIGHT\n",
      "0     1            Adokorac Nancy   20      70  177.80\n",
      "1     2   Amutuhaire Faith Ahabwe   27      47  157.48\n",
      "2     3     KWAGALA JOANNA VICTOR   21      54  185.42\n",
      "3     4              mahoro cathy   23      30     NaN\n",
      "4     5  Mbabazi Hawa Bint Edrisa   19      59  175.26\n",
      "5     6       Nakanjako josephine   24      65  175.26\n",
      "6     7            Nanteza Dorcus   21      69  157.48\n",
      "7     8             Mbabazi Angel   19      57  167.64\n",
      "8     9            Namara Racheal   19      55  154.94\n",
      "9    10       Lwamulungi Sheillah   22      78  162.56\n",
      "10   11           Nakawuka Sandra   25      60  175.26\n",
      "11   12   Achola Gloria Fortunate   27      80  172.72\n",
      "12   13             Nagawa Esther   21      58  187.96\n",
      "13   14           wanjiku hananny   19      50  165.10\n",
      "14   15            babirye Sandra   21      50  175.26\n",
      "15   16          nakagga shanitah   21      50  175.26\n",
      "16   17    Wembabazi Vivian Ritah   20      49  160.02\n",
      "17   18   Nanziri Ritah Namayanja   23      70  162.56\n",
      "18   19            Nasejje Mariam   20      62  101.60\n",
      "19   20  Namukose Jolline Edriana   20      55  162.56\n",
      "20   21      Agatha Faith Anyango   27      55   93.98\n",
      "21   22              Kirabo Sarah   23      60  165.10\n",
      "22   23          Nansalire Anitah   21      45   63.50\n",
      "23   24             Nalugo gladys   19      70  101.60\n",
      "24   25            Namakula Allen   20      55  170.18\n",
      "25   26           Tukahirwa emily   22      67  175.26\n",
      "26   27            Shamirah Ahmed   21      67  137.16\n",
      "27   28          Ameso lmmaculate   23      64  165.10\n",
      "28   29                Ayoo Teddy   20      50  157.48\n",
      "29   30                Biira Mary   30      65  104.14\n",
      "30   31        Aloyo Brenda Ojera   23      52  170.18\n",
      "31   32        Ayebale Immaculate   24      50  162.56\n"
     ]
    }
   ],
   "source": [
    "df=pd.read_excel(r\"dataset.xlsx\")\n",
    "print(df)\n",
    "a=df['Age']"
   ]
  },
  {
   "cell_type": "code",
   "execution_count": 9,
   "metadata": {},
   "outputs": [],
   "source": [
    "w=df['Weight']"
   ]
  },
  {
   "cell_type": "code",
   "execution_count": 11,
   "metadata": {},
   "outputs": [
    {
     "name": "stdout",
     "output_type": "stream",
     "text": [
      "mean: 58.375\n"
     ]
    }
   ],
   "source": [
    "print(\"mean:\",df[\"Weight\"].mean())"
   ]
  },
  {
   "cell_type": "code",
   "execution_count": 14,
   "metadata": {},
   "outputs": [],
   "source": [
    "from scipy.stats import linregress"
   ]
  },
  {
   "cell_type": "code",
   "execution_count": 16,
   "metadata": {},
   "outputs": [],
   "source": [
    "w=df[\"Age\"]"
   ]
  },
  {
   "cell_type": "code",
   "execution_count": 17,
   "metadata": {},
   "outputs": [],
   "source": [
    "h=df[\"HEIGHT\"]"
   ]
  },
  {
   "cell_type": "code",
   "execution_count": 13,
   "metadata": {},
   "outputs": [
    {
     "data": {
      "text/plain": [
       "count    32.00000\n",
       "mean     58.37500\n",
       "std      10.34486\n",
       "min      30.00000\n",
       "25%      50.00000\n",
       "50%      57.50000\n",
       "75%      65.50000\n",
       "max      80.00000\n",
       "Name: Weight, dtype: float64"
      ]
     },
     "execution_count": 13,
     "metadata": {},
     "output_type": "execute_result"
    }
   ],
   "source": [
    "df.Weight.describe()"
   ]
  },
  {
   "cell_type": "code",
   "execution_count": 12,
   "metadata": {},
   "outputs": [
    {
     "data": {
      "text/plain": [
       "<Axes: >"
      ]
     },
     "execution_count": 12,
     "metadata": {},
     "output_type": "execute_result"
    },
    {
     "data": {
      "image/png": "[encoded data removed]",
      "text/plain": [
       "<Figure size 640x480 with 1 Axes>"
      ]
     },
     "metadata": {},
     "output_type": "display_data"
    }
   ],
   "source": [
    "df.Weight.hist(bins=50)"
   ]
  },
  {
   "cell_type": "code",
   "execution_count": 10,
   "metadata": {},
   "outputs": [
    {
     "name": "stdout",
     "output_type": "stream",
     "text": [
      "<bound method NDFrame.describe of     S/N                      Name  Age  Weight  HEIGHT\n",
      "0     1            Adokorac Nancy   20      70  177.80\n",
      "1     2   Amutuhaire Faith Ahabwe   27      47  157.48\n",
      "2     3     KWAGALA JOANNA VICTOR   21      54  185.42\n",
      "3     4              mahoro cathy   23      30     NaN\n",
      "4     5  Mbabazi Hawa Bint Edrisa   19      59  175.26\n",
      "5     6       Nakanjako josephine   24      65  175.26\n",
      "6     7            Nanteza Dorcus   21      69  157.48\n",
      "7     8             Mbabazi Angel   19      57  167.64\n",
      "8     9            Namara Racheal   19      55  154.94\n",
      "9    10       Lwamulungi Sheillah   22      78  162.56\n",
      "10   11           Nakawuka Sandra   25      60  175.26\n",
      "11   12   Achola Gloria Fortunate   27      80  172.72\n",
      "12   13             Nagawa Esther   21      58  187.96\n",
      "13   14           wanjiku hananny   19      50  165.10\n",
      "14   15            babirye Sandra   21      50  175.26\n",
      "15   16          nakagga shanitah   21      50  175.26\n",
      "16   17    Wembabazi Vivian Ritah   20      49  160.02\n",
      "17   18   Nanziri Ritah Namayanja   23      70  162.56\n",
      "18   19            Nasejje Mariam   20      62  101.60\n",
      "19   20  Namukose Jolline Edriana   20      55  162.56\n",
      "20   21      Agatha Faith Anyango   27      55   93.98\n",
      "21   22              Kirabo Sarah   23      60  165.10\n",
      "22   23          Nansalire Anitah   21      45   63.50\n",
      "23   24             Nalugo gladys   19      70  101.60\n",
      "24   25            Namakula Allen   20      55  170.18\n",
      "25   26           Tukahirwa emily   22      67  175.26\n",
      "26   27            Shamirah Ahmed   21      67  137.16\n",
      "27   28          Ameso lmmaculate   23      64  165.10\n",
      "28   29                Ayoo Teddy   20      50  157.48\n",
      "29   30                Biira Mary   30      65  104.14\n",
      "30   31        Aloyo Brenda Ojera   23      52  170.18\n",
      "31   32        Ayebale Immaculate   24      50  162.56>\n"
     ]
    }
   ],
   "source": [
    "print(df.describe)"
   ]
  },
  {
   "cell_type": "code",
   "execution_count": 1,
   "metadata": {},
   "outputs": [
    {
     "name": "stdout",
     "output_type": "stream",
     "text": [
      "Requirement already satisfied: pandas in c:\\users\\student\\appdata\\local\\programs\\python\\python311\\lib\\site-packages (2.1.0)\n",
      "Requirement already satisfied: numpy>=1.23.2 in c:\\users\\student\\appdata\\local\\programs\\python\\python311\\lib\\site-packages (from pandas) (1.25.2)\n",
      "Requirement already satisfied: python-dateutil>=2.8.2 in c:\\users\\student\\appdata\\roaming\\python\\python311\\site-packages (from pandas) (2.8.2)\n",
      "Requirement already satisfied: pytz>=2020.1 in c:\\users\\student\\appdata\\local\\programs\\python\\python311\\lib\\site-packages (from pandas) (2023.3.post1)\n",
      "Requirement already satisfied: tzdata>=2022.1 in c:\\users\\student\\appdata\\local\\programs\\python\\python311\\lib\\site-packages (from pandas) (2023.3)\n",
      "Requirement already satisfied: six>=1.5 in c:\\users\\student\\appdata\\roaming\\python\\python311\\site-packages (from python-dateutil>=2.8.2->pandas) (1.16.0)\n",
      "Note: you may need to restart the kernel to use updated packages.\n"
     ]
    },
    {
     "name": "stderr",
     "output_type": "stream",
     "text": [
      "\n",
      "[notice] A new release of pip is available: 23.2.1 -> 23.3.1\n",
      "[notice] To update, run: python.exe -m pip install --upgrade pip\n"
     ]
    }
   ],
   "source": [
    "pip install pandas"
   ]
  },
  {
   "cell_type": "code",
   "execution_count": 3,
   "metadata": {},
   "outputs": [],
   "source": [
    "import pandas as pd"
   ]
  },
  {
   "cell_type": "code",
   "execution_count": null,
   "metadata": {},
   "outputs": [],
   "source": []
  }
 ],
 "metadata": {
  "kernelspec": {
   "display_name": "Python 3",
   "language": "python",
   "name": "python3"
  },
  "language_info": {
   "codemirror_mode": {
    "name": "ipython",
    "version": 3
   },
   "file_extension": ".py",
   "mimetype": "text/x-python",
   "name": "python",
   "nbconvert_exporter": "python",
   "pygments_lexer": "ipython3",
   "version": "3.12.0"
  }
 },
 "nbformat": 4,
 "nbformat_minor": 2
}
